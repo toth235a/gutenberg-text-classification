{
 "cells": [
  {
   "cell_type": "markdown",
   "id": "9be0c214-821f-4a70-aef0-1a5557d40b0e",
   "metadata": {
    "tags": []
   },
   "source": [
    "# 01 Text selection and download"
   ]
  },
  {
   "cell_type": "markdown",
   "id": "f3ff66f3-972c-4e23-b927-248a8e7b8c81",
   "metadata": {},
   "source": [
    "In this notebook, we will select the books we want to analyse and download them.\n",
    "There are a number of ways we can get a catalog of the books in the Gutenberg project. The cleanest way is to use the SQL database that can be created with the gutenbergpy package. It is created by runnning gutenbergpy.gutenbergcache.GutenbergCache.create(). We did not include this line as it is a long process, instead, we included a zipped file of the database, which we now unzip:"
   ]
  },
  {
   "cell_type": "code",
   "execution_count": 1,
   "id": "c3231f5d-d5a5-4ebb-8c7e-4df0792b497c",
   "metadata": {
    "tags": []
   },
   "outputs": [],
   "source": [
    "import os\n",
    "import zipfile\n",
    "with zipfile.ZipFile('gutenbergindex.db.zip', 'r') as zip:\n",
    "    zip.extractall('')"
   ]
  },
  {
   "cell_type": "markdown",
   "id": "6228bf46-92d0-456f-8da8-1d0d33a49aa4",
   "metadata": {},
   "source": [
    "We get all French language books from the catalog and put their gutenberg number, author and title in a dataframe."
   ]
  },
  {
   "cell_type": "code",
   "execution_count": 2,
   "id": "abbb5b22-f741-406a-a175-19d6acbe22e8",
   "metadata": {
    "tags": []
   },
   "outputs": [
    {
     "data": {
      "text/html": [
       "<div>\n",
       "<style scoped>\n",
       "    .dataframe tbody tr th:only-of-type {\n",
       "        vertical-align: middle;\n",
       "    }\n",
       "\n",
       "    .dataframe tbody tr th {\n",
       "        vertical-align: top;\n",
       "    }\n",
       "\n",
       "    .dataframe thead th {\n",
       "        text-align: right;\n",
       "    }\n",
       "</style>\n",
       "<table border=\"1\" class=\"dataframe\">\n",
       "  <thead>\n",
       "    <tr style=\"text-align: right;\">\n",
       "      <th></th>\n",
       "      <th>title</th>\n",
       "      <th>author</th>\n",
       "    </tr>\n",
       "    <tr>\n",
       "      <th>number</th>\n",
       "      <th></th>\n",
       "      <th></th>\n",
       "    </tr>\n",
       "  </thead>\n",
       "  <tbody>\n",
       "    <tr>\n",
       "      <th>29114</th>\n",
       "      <td>La cour et la ville de Madrid vers la fin du X...</td>\n",
       "      <td>d'Aulnoy, Marie-Catherine</td>\n",
       "    </tr>\n",
       "    <tr>\n",
       "      <th>797</th>\n",
       "      <td>L'Abbesse De Castro</td>\n",
       "      <td>Marie-Henri Beyle</td>\n",
       "    </tr>\n",
       "    <tr>\n",
       "      <th>32138</th>\n",
       "      <td>Vers Ispahan</td>\n",
       "      <td>Viaud, Julien</td>\n",
       "    </tr>\n",
       "    <tr>\n",
       "      <th>24861</th>\n",
       "      <td>L'affaire Sougraine</td>\n",
       "      <td>Lemay, Léon Pamphile</td>\n",
       "    </tr>\n",
       "    <tr>\n",
       "      <th>37678</th>\n",
       "      <td>Louis XI et Les États Pontificaux de France au...</td>\n",
       "      <td>Rey, Raymond</td>\n",
       "    </tr>\n",
       "    <tr>\n",
       "      <th>...</th>\n",
       "      <td>...</td>\n",
       "      <td>...</td>\n",
       "    </tr>\n",
       "    <tr>\n",
       "      <th>12120</th>\n",
       "      <td>Nouveaux contes bleus</td>\n",
       "      <td>Laboulaye, Édouard-René Lefebvre de</td>\n",
       "    </tr>\n",
       "    <tr>\n",
       "      <th>43782</th>\n",
       "      <td>Gringalette</td>\n",
       "      <td>Grassal, Georges-Joseph</td>\n",
       "    </tr>\n",
       "    <tr>\n",
       "      <th>17660</th>\n",
       "      <td>L'archipel en feu</td>\n",
       "      <td>Verne, Júlio</td>\n",
       "    </tr>\n",
       "    <tr>\n",
       "      <th>53722</th>\n",
       "      <td>Viviane</td>\n",
       "      <td>Tennyson, Alfred Lord</td>\n",
       "    </tr>\n",
       "    <tr>\n",
       "      <th>11597</th>\n",
       "      <td>Mademoiselle Fifi: nouveaux contes</td>\n",
       "      <td>De Maupassant, Guy</td>\n",
       "    </tr>\n",
       "  </tbody>\n",
       "</table>\n",
       "<p>3474 rows × 2 columns</p>\n",
       "</div>"
      ],
      "text/plain": [
       "                                                    title  \\\n",
       "number                                                      \n",
       "29114   La cour et la ville de Madrid vers la fin du X...   \n",
       "797                                   L'Abbesse De Castro   \n",
       "32138                                        Vers Ispahan   \n",
       "24861                                 L'affaire Sougraine   \n",
       "37678   Louis XI et Les États Pontificaux de France au...   \n",
       "...                                                   ...   \n",
       "12120                               Nouveaux contes bleus   \n",
       "43782                                         Gringalette   \n",
       "17660                                   L'archipel en feu   \n",
       "53722                                             Viviane   \n",
       "11597                  Mademoiselle Fifi: nouveaux contes   \n",
       "\n",
       "                                     author  \n",
       "number                                       \n",
       "29114             d'Aulnoy, Marie-Catherine  \n",
       "797                       Marie-Henri Beyle  \n",
       "32138                         Viaud, Julien  \n",
       "24861                  Lemay, Léon Pamphile  \n",
       "37678                          Rey, Raymond  \n",
       "...                                     ...  \n",
       "12120   Laboulaye, Édouard-René Lefebvre de  \n",
       "43782               Grassal, Georges-Joseph  \n",
       "17660                          Verne, Júlio  \n",
       "53722                 Tennyson, Alfred Lord  \n",
       "11597                    De Maupassant, Guy  \n",
       "\n",
       "[3474 rows x 2 columns]"
      ]
     },
     "execution_count": 2,
     "metadata": {},
     "output_type": "execute_result"
    }
   ],
   "source": [
    "import sqlite3\n",
    "import pandas as pd\n",
    "con = sqlite3.connect('gutenbergindex.db')\n",
    "cur = con.cursor()\n",
    "\n",
    "cur.execute(\"\"\"SELECT titles.name, authors.name, books.gutenbergbookid\n",
    "FROM books\n",
    "JOIN titles ON titles.bookid = books.id\n",
    "JOIN book_authors ON books.id = book_authors.bookid\n",
    "JOIN authors ON book_authors.authorid = authors.id\n",
    "WHERE books.languageid = 5\"\"\") ##French books have a languageid of 5\n",
    "\n",
    "gut_df=pd.DataFrame(cur.fetchall(), columns=['title', 'author', 'number']).drop_duplicates(subset='number', keep='first').set_index(\"number\") # we only keep the first alias of the writers\n",
    "\n",
    "con.close()\n",
    "gut_df"
   ]
  },
  {
   "cell_type": "markdown",
   "id": "0a30c9bf-14b8-4775-a80c-bf51c3a753ed",
   "metadata": {
    "tags": []
   },
   "source": [
    "Which authors are the most represented?"
   ]
  },
  {
   "cell_type": "code",
   "execution_count": 3,
   "id": "52daf750-6a30-48fe-9d04-d42604af33ba",
   "metadata": {
    "tags": []
   },
   "outputs": [
    {
     "data": {
      "text/plain": [
       "Verschillende                             261\n",
       "Dupin, Amandine-Aurore-Lucile              73\n",
       "Dumas, Alexander                           55\n",
       "Verne, Júlio                               44\n",
       "Shakspeare, William                        42\n",
       "Anonyme                                    38\n",
       "De Maupassant, Guy                         37\n",
       "Michelet, J.                               32\n",
       "Thiers, Marie-Joseph-Louis-Adolphe         30\n",
       "Zola, Émile Édouard Charles Antoine        29\n",
       "Lamartine, Alphonse Marie Louis de         28\n",
       "Hugo, Victor Marie, comte                  28\n",
       "Féval, Paul Henri Corentin                 26\n",
       "Gourmont, Remi de                          25\n",
       "Viaud, Julien                              23\n",
       "Lebert, Marie                              22\n",
       "Boylesve, Rene                             22\n",
       "Sue, Eugene                                20\n",
       "Goncourt, Edmond Louis Antoine Huot de     20\n",
       "Gaboriau, Émile                            19\n",
       "Thibault, Jacques-Anatole-François         19\n",
       "Arouet, François Marie                     18\n",
       "Gaultier, Theophile                        16\n",
       "Marie-Henri Beyle                          15\n",
       "Balzac, Honore de                          15\n",
       "Flaubert, Gustave                          15\n",
       "Proust, Marcel                             15\n",
       "Corbière, Édouard                          15\n",
       "Daudet, Louis Marie Alphonse               14\n",
       "Viollet-le-Duc, Eugene-Emmanuel            14\n",
       "Name: author, dtype: int64"
      ]
     },
     "execution_count": 3,
     "metadata": {},
     "output_type": "execute_result"
    }
   ],
   "source": [
    "gut_df['author'].value_counts()[:30]"
   ]
  },
  {
   "cell_type": "markdown",
   "id": "1ba70304-654c-4a28-9983-db4613416d0a",
   "metadata": {},
   "source": [
    "Let's choose ten well known and well represented French authors and put the book data in a dataframe. We use their name in the form that they are most well known."
   ]
  },
  {
   "cell_type": "code",
   "execution_count": 4,
   "id": "e916c1de-2454-479c-977e-79ade8e55a79",
   "metadata": {
    "tags": []
   },
   "outputs": [
    {
     "data": {
      "text/html": [
       "<div>\n",
       "<style scoped>\n",
       "    .dataframe tbody tr th:only-of-type {\n",
       "        vertical-align: middle;\n",
       "    }\n",
       "\n",
       "    .dataframe tbody tr th {\n",
       "        vertical-align: top;\n",
       "    }\n",
       "\n",
       "    .dataframe thead th {\n",
       "        text-align: right;\n",
       "    }\n",
       "</style>\n",
       "<table border=\"1\" class=\"dataframe\">\n",
       "  <thead>\n",
       "    <tr style=\"text-align: right;\">\n",
       "      <th></th>\n",
       "      <th>title</th>\n",
       "      <th>author</th>\n",
       "    </tr>\n",
       "    <tr>\n",
       "      <th>number</th>\n",
       "      <th></th>\n",
       "      <th></th>\n",
       "    </tr>\n",
       "  </thead>\n",
       "  <tbody>\n",
       "    <tr>\n",
       "      <th>34204</th>\n",
       "      <td>La petite Fadette</td>\n",
       "      <td>George Sand</td>\n",
       "    </tr>\n",
       "    <tr>\n",
       "      <th>5095</th>\n",
       "      <td>20000 Lieues sous les mers — Part 1</td>\n",
       "      <td>Jules Verne</td>\n",
       "    </tr>\n",
       "    <tr>\n",
       "      <th>24850</th>\n",
       "      <td>Lourdes</td>\n",
       "      <td>Émile Zola</td>\n",
       "    </tr>\n",
       "    <tr>\n",
       "      <th>41054</th>\n",
       "      <td>Cours familier de Littérature - Volume 07</td>\n",
       "      <td>Alphonse de Lamartine</td>\n",
       "    </tr>\n",
       "    <tr>\n",
       "      <th>63794</th>\n",
       "      <td>La comédie de celui qui épousa une femme muette</td>\n",
       "      <td>Anatole France</td>\n",
       "    </tr>\n",
       "    <tr>\n",
       "      <th>...</th>\n",
       "      <td>...</td>\n",
       "      <td>...</td>\n",
       "    </tr>\n",
       "    <tr>\n",
       "      <th>17693</th>\n",
       "      <td>La San-Felice, Tome 01</td>\n",
       "      <td>Alexandre Dumas</td>\n",
       "    </tr>\n",
       "    <tr>\n",
       "      <th>7772</th>\n",
       "      <td>Les Quarante-Cinq — Tome 3</td>\n",
       "      <td>Alexandre Dumas</td>\n",
       "    </tr>\n",
       "    <tr>\n",
       "      <th>38674</th>\n",
       "      <td>De la terre à la lune, trajet direct en 97 heu...</td>\n",
       "      <td>Jules Verne</td>\n",
       "    </tr>\n",
       "    <tr>\n",
       "      <th>17660</th>\n",
       "      <td>L'archipel en feu</td>\n",
       "      <td>Jules Verne</td>\n",
       "    </tr>\n",
       "    <tr>\n",
       "      <th>11597</th>\n",
       "      <td>Mademoiselle Fifi: nouveaux contes</td>\n",
       "      <td>Guy de Maupassant</td>\n",
       "    </tr>\n",
       "  </tbody>\n",
       "</table>\n",
       "<p>343 rows × 2 columns</p>\n",
       "</div>"
      ],
      "text/plain": [
       "                                                    title  \\\n",
       "number                                                      \n",
       "34204                                   La petite Fadette   \n",
       "5095                  20000 Lieues sous les mers — Part 1   \n",
       "24850                                             Lourdes   \n",
       "41054           Cours familier de Littérature - Volume 07   \n",
       "63794     La comédie de celui qui épousa une femme muette   \n",
       "...                                                   ...   \n",
       "17693                              La San-Felice, Tome 01   \n",
       "7772                           Les Quarante-Cinq — Tome 3   \n",
       "38674   De la terre à la lune, trajet direct en 97 heu...   \n",
       "17660                                   L'archipel en feu   \n",
       "11597                  Mademoiselle Fifi: nouveaux contes   \n",
       "\n",
       "                       author  \n",
       "number                         \n",
       "34204             George Sand  \n",
       "5095              Jules Verne  \n",
       "24850              Émile Zola  \n",
       "41054   Alphonse de Lamartine  \n",
       "63794          Anatole France  \n",
       "...                       ...  \n",
       "17693         Alexandre Dumas  \n",
       "7772          Alexandre Dumas  \n",
       "38674             Jules Verne  \n",
       "17660             Jules Verne  \n",
       "11597       Guy de Maupassant  \n",
       "\n",
       "[343 rows x 2 columns]"
      ]
     },
     "execution_count": 4,
     "metadata": {},
     "output_type": "execute_result"
    }
   ],
   "source": [
    "author_list_raw=[\"Dupin, Amandine-Aurore-Lucile\", \"Dumas, Alexander\", \"Verne, Júlio\", \"De Maupassant, Guy\", \"Hugo, Victor Marie, comte\", \"Lamartine, Alphonse Marie Louis de\",\n",
    "             \"Thibault, Jacques-Anatole-François\", \"Proust, Marcel\", \"Zola, Émile Édouard Charles Antoine\",  \"Flaubert, Gustave\"] \n",
    "sel_gut_df1=gut_df[gut_df['author'].isin(author_list_raw)]\n",
    "sel_gut_df=sel_gut_df1.copy()\n",
    "\n",
    "author_list=[\"George Sand\", \"Alexandre Dumas\", \"Jules Verne\", \"Guy de Maupassant\", \"Victor Hugo\", \"Alphonse de Lamartine\",\n",
    "             \"Anatole France\", \"Marcel Proust\", \"Émile Zola\",  \"Gustave Flaubert\"] \n",
    "for i, author in enumerate(author_list_raw):\n",
    "    sel_gut_df.loc[sel_gut_df1['author'] == author, 'author'] = author_list[i]\n",
    "\n",
    "sel_gut_df"
   ]
  },
  {
   "cell_type": "markdown",
   "id": "28e769d5-1596-4c89-b5a0-d730e17c3637",
   "metadata": {
    "tags": []
   },
   "source": [
    "Let's create folders for our files."
   ]
  },
  {
   "cell_type": "code",
   "execution_count": 5,
   "id": "938f91df-af69-4fbb-af52-697186584f7d",
   "metadata": {
    "tags": []
   },
   "outputs": [],
   "source": [
    "\n",
    "if not os.path.exists(\"rawtext\"):\n",
    "    os.mkdir(\"rawtext\")\n",
    "for a in sel_gut_df[\"author\"]:\n",
    "    if not os.path.exists(os.path.join(\"rawtext\", a)):\n",
    "        os.mkdir(os.path.join(\"rawtext\", a))"
   ]
  },
  {
   "cell_type": "markdown",
   "id": "b8b5b8cd-a94c-4d73-a8f9-a878df8746f7",
   "metadata": {},
   "source": [
    "And download the files: (this could probably be done more efficiently with the built-in download function of gutenbergpy)"
   ]
  },
  {
   "cell_type": "code",
   "execution_count": 6,
   "id": "f16fe617-714c-42fa-a9ac-cff7742de0e0",
   "metadata": {
    "tags": []
   },
   "outputs": [
    {
     "name": "stdout",
     "output_type": "stream",
     "text": [
      "no such file: rawtext/Jules Verne/20973\n"
     ]
    }
   ],
   "source": [
    "i=0\n",
    "import requests\n",
    "for a in author_list:\n",
    "    for n in sel_gut_df[sel_gut_df['author']==a].index:\n",
    "        i+=1\n",
    "        filename=os.path.join(\"rawtext\", a, str(n))\n",
    "        if not os.path.isfile(filename):\n",
    "            url1 = 'https://www.gutenberg.org/files/'+str(n)+\"/\"+str(n)+\"-0.txt\" # we prefer these as these are utf-8\n",
    "            url2= 'https://www.gutenberg.org/files/'+str(n)+\"/\"+str(n)+\"-8.txt\" #these are in latin-1\n",
    "            url3= 'https://www.gutenberg.org/files/'+str(n)+\"/\"+str(n)+\".txt\" #if all else fails we take the unknown (latin-1 or ascii) encoding and try to figure out what encoding it is\n",
    "            response1 = requests.head(url1)\n",
    "            response2 = requests.head(url2)\n",
    "            response3 = requests.head(url3)\n",
    "            if response1.status_code == 200:\n",
    "                with open(filename, 'wb') as f:\n",
    "                    text=requests.get(url1)\n",
    "                    f.write(text.content)\n",
    "            elif response2.status_code == 200:\n",
    "                with open(filename, 'wb') as f:\n",
    "                    text=requests.get(url2)\n",
    "                    f.write(text.content.decode('latin1').encode('utf-8'))\n",
    "            elif response3.status_code == 200:\n",
    "                with open(filename, 'wb') as f:\n",
    "                    text=requests.get(url3)\n",
    "                    try:\n",
    "                        encoding = re.search(r\"Character set encoding: (.*?)\\n\", text.text).group(1).strip()\n",
    "                        if encoding=='ISO-Latin-1':\n",
    "                            encoding='latin1' \n",
    "                        f.write(text.content.decode(encoding).encode('utf-8'))\n",
    "                    except:\n",
    "                        f.write(text.content)\n",
    "            else:\n",
    "                print(\"no such file:\", filename)\n",
    "\n"
   ]
  },
  {
   "cell_type": "markdown",
   "id": "53fa6dad-6416-453b-8a19-16b8e11df050",
   "metadata": {},
   "source": [
    "This is because this file is an audio file and was not downloaded. Let's update our df accordingly."
   ]
  },
  {
   "cell_type": "code",
   "execution_count": 7,
   "id": "e398b8fa-59b8-41c1-8bff-3166d3a4b1d5",
   "metadata": {
    "tags": []
   },
   "outputs": [],
   "source": [
    "sel_gut_df.drop(20973, inplace=True)\n"
   ]
  },
  {
   "cell_type": "markdown",
   "id": "da454d2b-0601-4507-823a-d4c18d631171",
   "metadata": {},
   "source": [
    "Let's try to open the files:"
   ]
  },
  {
   "cell_type": "code",
   "execution_count": 8,
   "id": "8a2449fa-d910-4be1-b9c9-4545d544ace7",
   "metadata": {
    "tags": []
   },
   "outputs": [
    {
     "name": "stdout",
     "output_type": "stream",
     "text": [
      "rawtext/Alexandre Dumas/1910\n"
     ]
    }
   ],
   "source": [
    "for i, row in sel_gut_df.iterrows():\n",
    "    filename=os.path.join(\"rawtext\", row[\"author\"], str(i))\n",
    "    with open(filename, 'r') as f:\n",
    "        try:\n",
    "            text=f.read()\n",
    "        except:\n",
    "            print(filename)"
   ]
  },
  {
   "cell_type": "markdown",
   "id": "cfb3bd88-4001-4aa6-9aa5-c9d4bd3c93f6",
   "metadata": {
    "tags": []
   },
   "source": [
    "This seems to be a wrongly encoded file. Fortunately, we have the another version:"
   ]
  },
  {
   "cell_type": "code",
   "execution_count": 9,
   "id": "0c90917e-40fc-4305-bb2f-5a30daee1d4d",
   "metadata": {
    "tags": []
   },
   "outputs": [
    {
     "data": {
      "text/html": [
       "<div>\n",
       "<style scoped>\n",
       "    .dataframe tbody tr th:only-of-type {\n",
       "        vertical-align: middle;\n",
       "    }\n",
       "\n",
       "    .dataframe tbody tr th {\n",
       "        vertical-align: top;\n",
       "    }\n",
       "\n",
       "    .dataframe thead th {\n",
       "        text-align: right;\n",
       "    }\n",
       "</style>\n",
       "<table border=\"1\" class=\"dataframe\">\n",
       "  <thead>\n",
       "    <tr style=\"text-align: right;\">\n",
       "      <th></th>\n",
       "      <th>title</th>\n",
       "      <th>author</th>\n",
       "    </tr>\n",
       "    <tr>\n",
       "      <th>number</th>\n",
       "      <th></th>\n",
       "      <th></th>\n",
       "    </tr>\n",
       "  </thead>\n",
       "  <tbody>\n",
       "    <tr>\n",
       "      <th>1910</th>\n",
       "      <td>La Tulipe Noire</td>\n",
       "      <td>Alexandre Dumas</td>\n",
       "    </tr>\n",
       "    <tr>\n",
       "      <th>26504</th>\n",
       "      <td>La tulipe noire</td>\n",
       "      <td>Alexandre Dumas</td>\n",
       "    </tr>\n",
       "  </tbody>\n",
       "</table>\n",
       "</div>"
      ],
      "text/plain": [
       "                  title           author\n",
       "number                                  \n",
       "1910    La Tulipe Noire  Alexandre Dumas\n",
       "26504   La tulipe noire  Alexandre Dumas"
      ]
     },
     "execution_count": 9,
     "metadata": {},
     "output_type": "execute_result"
    }
   ],
   "source": [
    "sel_gut_df[sel_gut_df['title'].str.contains('ulipe')]"
   ]
  },
  {
   "cell_type": "markdown",
   "id": "ff01e983-6b4c-46f6-bce9-18d766df2494",
   "metadata": {},
   "source": [
    "We delete the wrongly encoded version and save our catalog dataframe."
   ]
  },
  {
   "cell_type": "code",
   "execution_count": 10,
   "id": "14a75a1c-42bc-4929-a9d7-02c70987ffa4",
   "metadata": {
    "tags": []
   },
   "outputs": [],
   "source": [
    "sel_gut_df.drop(1910, inplace=True)\n",
    "sel_gut_df.to_csv('sel_gut_df.csv')"
   ]
  }
 ],
 "metadata": {
  "kernelspec": {
   "display_name": "Python 3 (ipykernel)",
   "language": "python",
   "name": "python3"
  },
  "language_info": {
   "codemirror_mode": {
    "name": "ipython",
    "version": 3
   },
   "file_extension": ".py",
   "mimetype": "text/x-python",
   "name": "python",
   "nbconvert_exporter": "python",
   "pygments_lexer": "ipython3",
   "version": "3.10.9"
  }
 },
 "nbformat": 4,
 "nbformat_minor": 5
}
